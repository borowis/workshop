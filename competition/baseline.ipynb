{
 "cells": [
  {
   "cell_type": "code",
   "execution_count": 136,
   "metadata": {
    "collapsed": true
   },
   "outputs": [],
   "source": [
    "import pandas as pd\n",
    "from sklearn.feature_extraction.text import CountVectorizer\n",
    "from sklearn.feature_extraction.text import HashingVectorizer\n",
    "from sklearn.feature_extraction.text import TfidfVectorizer\n",
    "from sklearn.linear_model import LogisticRegression\n",
    "from sklearn.pipeline import Pipeline\n",
    "from sklearn.model_selection import cross_val_score\n",
    "from string import punctuation, digits\n",
    "from sklearn.model_selection import train_test_split\n",
    "from sklearn.model_selection import GridSearchCV\n",
    "\n",
    "from sklearn.metrics import f1_score\n",
    "from sklearn.metrics import accuracy_score, classification_report\n",
    "\n",
    "import numpy as np"
   ]
  },
  {
   "cell_type": "code",
   "execution_count": 2,
   "metadata": {
    "collapsed": false
   },
   "outputs": [],
   "source": [
    "train = pd.read_csv(\"train.csv\", sep='|')\n",
    "test = pd.read_csv(\"test_review.csv\", sep='|')"
   ]
  },
  {
   "cell_type": "code",
   "execution_count": 3,
   "metadata": {
    "collapsed": false
   },
   "outputs": [
    {
     "data": {
      "text/html": [
       "<div>\n",
       "<table border=\"1\" class=\"dataframe\">\n",
       "  <thead>\n",
       "    <tr style=\"text-align: right;\">\n",
       "      <th></th>\n",
       "      <th>overall</th>\n",
       "      <th>reviewText</th>\n",
       "    </tr>\n",
       "  </thead>\n",
       "  <tbody>\n",
       "    <tr>\n",
       "      <th>0</th>\n",
       "      <td>0</td>\n",
       "      <td>Entertaining enough for those who don't think ...</td>\n",
       "    </tr>\n",
       "    <tr>\n",
       "      <th>1</th>\n",
       "      <td>1</td>\n",
       "      <td>I bought it yesterday havent started watching ...</td>\n",
       "    </tr>\n",
       "    <tr>\n",
       "      <th>2</th>\n",
       "      <td>1</td>\n",
       "      <td>This movie tells the story of three kids who g...</td>\n",
       "    </tr>\n",
       "    <tr>\n",
       "      <th>3</th>\n",
       "      <td>1</td>\n",
       "      <td>You wanna know what its like for a Black perso...</td>\n",
       "    </tr>\n",
       "    <tr>\n",
       "      <th>4</th>\n",
       "      <td>1</td>\n",
       "      <td>Warner Archive has finally released an epic fi...</td>\n",
       "    </tr>\n",
       "  </tbody>\n",
       "</table>\n",
       "</div>"
      ],
      "text/plain": [
       "   overall                                         reviewText\n",
       "0        0  Entertaining enough for those who don't think ...\n",
       "1        1  I bought it yesterday havent started watching ...\n",
       "2        1  This movie tells the story of three kids who g...\n",
       "3        1  You wanna know what its like for a Black perso...\n",
       "4        1  Warner Archive has finally released an epic fi..."
      ]
     },
     "execution_count": 3,
     "metadata": {},
     "output_type": "execute_result"
    }
   ],
   "source": [
    "train.head()"
   ]
  },
  {
   "cell_type": "code",
   "execution_count": 5,
   "metadata": {
    "collapsed": false
   },
   "outputs": [
    {
     "data": {
      "text/plain": [
       "1    25000\n",
       "0    15000\n",
       "Name: overall, dtype: int64"
      ]
     },
     "execution_count": 5,
     "metadata": {},
     "output_type": "execute_result"
    }
   ],
   "source": [
    "train.overall.value_counts()"
   ]
  },
  {
   "cell_type": "code",
   "execution_count": 34,
   "metadata": {
    "collapsed": true
   },
   "outputs": [],
   "source": [
    "X = train.reviewText\n",
    "y = train.overall"
   ]
  },
  {
   "cell_type": "code",
   "execution_count": 36,
   "metadata": {
    "collapsed": false
   },
   "outputs": [
    {
     "data": {
      "text/plain": [
       "0    0\n",
       "1    1\n",
       "2    1\n",
       "3    1\n",
       "4    1\n",
       "Name: overall, dtype: int64"
      ]
     },
     "execution_count": 36,
     "metadata": {},
     "output_type": "execute_result"
    }
   ],
   "source": [
    "y.head()"
   ]
  },
  {
   "cell_type": "code",
   "execution_count": 6,
   "metadata": {
    "collapsed": false
   },
   "outputs": [
    {
     "data": {
      "text/html": [
       "<div>\n",
       "<table border=\"1\" class=\"dataframe\">\n",
       "  <thead>\n",
       "    <tr style=\"text-align: right;\">\n",
       "      <th></th>\n",
       "      <th>index</th>\n",
       "      <th>reviewText</th>\n",
       "    </tr>\n",
       "  </thead>\n",
       "  <tbody>\n",
       "    <tr>\n",
       "      <th>0</th>\n",
       "      <td>0</td>\n",
       "      <td>So many reviewers have already given you the p...</td>\n",
       "    </tr>\n",
       "    <tr>\n",
       "      <th>1</th>\n",
       "      <td>1</td>\n",
       "      <td>The film opens up with an ideal family. When t...</td>\n",
       "    </tr>\n",
       "    <tr>\n",
       "      <th>2</th>\n",
       "      <td>2</td>\n",
       "      <td>Why does everyone like this stupid movie so mu...</td>\n",
       "    </tr>\n",
       "    <tr>\n",
       "      <th>3</th>\n",
       "      <td>3</td>\n",
       "      <td>Fair watch. Unlike some shows it got better wi...</td>\n",
       "    </tr>\n",
       "    <tr>\n",
       "      <th>4</th>\n",
       "      <td>4</td>\n",
       "      <td>I thought I was buying the DVD of the Season 4...</td>\n",
       "    </tr>\n",
       "  </tbody>\n",
       "</table>\n",
       "</div>"
      ],
      "text/plain": [
       "   index                                         reviewText\n",
       "0      0  So many reviewers have already given you the p...\n",
       "1      1  The film opens up with an ideal family. When t...\n",
       "2      2  Why does everyone like this stupid movie so mu...\n",
       "3      3  Fair watch. Unlike some shows it got better wi...\n",
       "4      4  I thought I was buying the DVD of the Season 4..."
      ]
     },
     "execution_count": 6,
     "metadata": {},
     "output_type": "execute_result"
    }
   ],
   "source": [
    "test.head()"
   ]
  },
  {
   "cell_type": "code",
   "execution_count": 37,
   "metadata": {
    "collapsed": true
   },
   "outputs": [],
   "source": [
    "X_test = test.reviewText"
   ]
  },
  {
   "cell_type": "code",
   "execution_count": 69,
   "metadata": {
    "collapsed": false
   },
   "outputs": [
    {
     "data": {
      "text/plain": [
       "pandas.core.series.Series"
      ]
     },
     "execution_count": 69,
     "metadata": {},
     "output_type": "execute_result"
    }
   ],
   "source": [
    "type(X_test)"
   ]
  },
  {
   "cell_type": "code",
   "execution_count": 67,
   "metadata": {
    "collapsed": false
   },
   "outputs": [
    {
     "data": {
      "text/plain": [
       "(22500,)"
      ]
     },
     "execution_count": 67,
     "metadata": {},
     "output_type": "execute_result"
    }
   ],
   "source": [
    "X_test.shape"
   ]
  },
  {
   "cell_type": "code",
   "execution_count": 177,
   "metadata": {
    "collapsed": true
   },
   "outputs": [],
   "source": [
    "# prepare punctuation and digits list for removal\n",
    "translator = str.maketrans('', '', punctuation + digits)\n",
    "\n",
    "# basic preprocessing:\n",
    "def clean_data(data):\n",
    "    processed = data.str.replace('\\n', '').str.replace('\\r', '').str.replace('\\t', '')\n",
    "    processed = processed.str.replace(\"n't\", \" not\").str.replace(\"'re\", \" are\").str.replace(\"'s\", \" s\")\n",
    "    processed = processed.str.replace(\"'ve\", \" have\").str.replace(\"'ll\", \" will\").str.replace(\"'d\", \" d\")\n",
    "    processed = processed.str.translate(translator).str.strip().str.lower()\n",
    "    return processed"
   ]
  },
  {
   "cell_type": "code",
   "execution_count": 178,
   "metadata": {
    "collapsed": false
   },
   "outputs": [],
   "source": [
    "X_train = clean_data(X)\n",
    "X_test = clean_data(X_test)"
   ]
  },
  {
   "cell_type": "code",
   "execution_count": 179,
   "metadata": {
    "collapsed": false
   },
   "outputs": [
    {
     "data": {
      "text/plain": [
       "0    entertaining enough for those who do not think too muchthere i said it  im sure i will get the u...\n",
       "1    i bought it yesterday havent started watching it yet but im going to  another great season and  ...\n",
       "2    this movie tells the story of three kids who grow up in a slum area of rio de janeiro hopefully ...\n",
       "3    you wanna know what its like for a black person as a kid check this out its a sign of the times ...\n",
       "4    warner archive has finally released an epic film which has gotten sporadic showings on turner cl...\n",
       "Name: reviewText, dtype: object"
      ]
     },
     "execution_count": 179,
     "metadata": {},
     "output_type": "execute_result"
    }
   ],
   "source": [
    "X_train.head()"
   ]
  },
  {
   "cell_type": "code",
   "execution_count": 180,
   "metadata": {
    "collapsed": false
   },
   "outputs": [],
   "source": [
    "X_train, X_my_test, y_train, y_my_test = train_test_split(X_train, y,test_size=0.2)"
   ]
  },
  {
   "cell_type": "code",
   "execution_count": 28,
   "metadata": {
    "collapsed": true
   },
   "outputs": [],
   "source": [
    "pipeline_lr = Pipeline([('vectorizer', CountVectorizer(ngram_range=(1,2))),\n",
    "                     ('clf_lr', LogisticRegression(class_weight='balanced'))])"
   ]
  },
  {
   "cell_type": "markdown",
   "metadata": {},
   "source": [
    "# find hyperparameters"
   ]
  },
  {
   "cell_type": "code",
   "execution_count": 89,
   "metadata": {
    "collapsed": false
   },
   "outputs": [
    {
     "name": "stdout",
     "output_type": "stream",
     "text": [
      "CPU times: user 2min 4s, sys: 3.12 s, total: 2min 7s\n",
      "Wall time: 10min 41s\n"
     ]
    },
    {
     "data": {
      "text/plain": [
       "GridSearchCV(cv=3, error_score='raise',\n",
       "       estimator=Pipeline(steps=[('vectorizer', CountVectorizer(analyzer='word', binary=False, decode_error='strict',\n",
       "        dtype=<class 'numpy.int64'>, encoding='utf-8', input='content',\n",
       "        lowercase=True, max_df=1.0, max_features=None, min_df=1,\n",
       "        ngram_range=(1, 2), preprocessor=None, stop_words=None,\n",
       "       ...ty='l2', random_state=None,\n",
       "          solver='liblinear', tol=0.0001, verbose=0, warm_start=False))]),\n",
       "       fit_params={}, iid=True, n_jobs=3,\n",
       "       param_grid={'clf_lr__C': [0.01, 0.1, 1, 10]},\n",
       "       pre_dispatch='2*n_jobs', refit=True, return_train_score=True,\n",
       "       scoring='f1', verbose=0)"
      ]
     },
     "execution_count": 89,
     "metadata": {},
     "output_type": "execute_result"
    }
   ],
   "source": [
    "params_lr = dict(clf_lr__C=[0.01, 0.1, 1, 10])\n",
    "grid_search_lr = GridSearchCV(pipeline_lr, param_grid=params_lr, cv=3, scoring='f1', n_jobs=3, verbose=3)\n",
    "%time grid_search_lr.fit(X_train, y_train)"
   ]
  },
  {
   "cell_type": "code",
   "execution_count": 105,
   "metadata": {
    "collapsed": false
   },
   "outputs": [
    {
     "data": {
      "text/plain": [
       "0.90691523595020362"
      ]
     },
     "execution_count": 105,
     "metadata": {},
     "output_type": "execute_result"
    }
   ],
   "source": [
    "grid_search_lr.best_score_"
   ]
  },
  {
   "cell_type": "markdown",
   "metadata": {},
   "source": [
    "# new pipeline based on optimized hyperparameters"
   ]
  },
  {
   "cell_type": "code",
   "execution_count": 189,
   "metadata": {
    "collapsed": false
   },
   "outputs": [],
   "source": [
    "pipeline_lr_optimized = Pipeline([('vectorizer', TfidfVectorizer(sublinear_tf=True, ngram_range=(1,2))),\n",
    "    ('clf_lr', LogisticRegression(C=5, class_weight='balanced'))])"
   ]
  },
  {
   "cell_type": "code",
   "execution_count": 190,
   "metadata": {
    "collapsed": false
   },
   "outputs": [
    {
     "name": "stdout",
     "output_type": "stream",
     "text": [
      "CPU times: user 54.2 s, sys: 8.12 s, total: 1min 2s\n",
      "Wall time: 52.9 s\n"
     ]
    },
    {
     "data": {
      "text/plain": [
       "Pipeline(steps=[('vectorizer', TfidfVectorizer(analyzer='word', binary=False, decode_error='strict',\n",
       "        dtype=<class 'numpy.int64'>, encoding='utf-8', input='content',\n",
       "        lowercase=True, max_df=1.0, max_features=None, min_df=1,\n",
       "        ngram_range=(1, 2), norm='l2', preprocessor=None, smooth_idf=Tr...ty='l2', random_state=None,\n",
       "          solver='liblinear', tol=0.0001, verbose=0, warm_start=False))])"
      ]
     },
     "execution_count": 190,
     "metadata": {},
     "output_type": "execute_result"
    }
   ],
   "source": [
    "%%time\n",
    "pipeline_lr_optimized.fit(X_train, y_train)"
   ]
  },
  {
   "cell_type": "markdown",
   "metadata": {},
   "source": [
    "# calculate cross_val_score on \"test\" data"
   ]
  },
  {
   "cell_type": "code",
   "execution_count": 191,
   "metadata": {
    "collapsed": false
   },
   "outputs": [
    {
     "name": "stdout",
     "output_type": "stream",
     "text": [
      "             precision    recall  f1-score   support\n",
      "\n",
      "          0  0.8450426789 0.8623115578 0.8535897861      2985\n",
      "          1  0.9170367380 0.9058823529 0.9114254188      5015\n",
      "\n",
      "avg / total  0.8901739547 0.8896250000 0.8898454983      8000\n",
      "\n",
      "CPU times: user 4.18 s, sys: 8 ms, total: 4.18 s\n",
      "Wall time: 4.18 s\n"
     ]
    }
   ],
   "source": [
    "%%time\n",
    "y_predicted_lr_optimized = pipeline_lr_optimized.predict(X_my_test)\n",
    "print(classification_report(y_my_test, y_predicted_lr_optimized, digits=10))"
   ]
  },
  {
   "cell_type": "code",
   "execution_count": 80,
   "metadata": {
    "collapsed": false
   },
   "outputs": [
    {
     "data": {
      "text/plain": [
       "array([ 0.91372852,  0.91063476,  0.91173503])"
      ]
     },
     "execution_count": 80,
     "metadata": {},
     "output_type": "execute_result"
    }
   ],
   "source": [
    "scores"
   ]
  },
  {
   "cell_type": "code",
   "execution_count": 81,
   "metadata": {
    "collapsed": false
   },
   "outputs": [
    {
     "data": {
      "text/plain": [
       "0.91203276957636892"
      ]
     },
     "execution_count": 81,
     "metadata": {},
     "output_type": "execute_result"
    }
   ],
   "source": [
    "scores.mean()"
   ]
  },
  {
   "cell_type": "markdown",
   "metadata": {},
   "source": [
    "# 0.8993747350"
   ]
  },
  {
   "cell_type": "markdown",
   "metadata": {},
   "source": [
    "# look into incorrectly classified stuff"
   ]
  },
  {
   "cell_type": "code",
   "execution_count": 192,
   "metadata": {
    "collapsed": false
   },
   "outputs": [
    {
     "name": "stdout",
     "output_type": "stream",
     "text": [
      "i did not expect to love this movie i like kevin james but i was not excited about this movie based off the tv trailers i d seen honestly the trailers did not do it justice it really is funny and so sweet it had me laughing and teared up in all the right moments the cast is great the story is solid and the fight scenes were done very well  as a fan of mma i was not disappointed henry winkler is genius in this and kevin james probably does his best work to date i cannot even put it into words how much i loved this movie other than im buying the dvd immediately to add to my collection  so you should really download it or buy it too  you likely wo not regret it\n",
      "predicted 1\n",
      "true 0\n",
      "\n",
      "\n",
      "a friend bought this film out of curiosity watched it and was going to toss it but first asked me if i wanted to see it so i borrowed it i eventually tossed it my first reaction was that it was laughable next reaction it begs for a new flm rating  pwp  or  porn with plot one reviewer here asked where they could get more films like this  try an adult bookstore another reviewer compared it to caligua no comparison production values alone in caligula far outweigh those in shortbus which are weak and mostly nonexistent  even the georgina spelvin the devil in miss jones  had more than shortbus there have always been artists and i use that word loosely here that try to push the envelope when they create their art but mr mitchell does not  robert mapplethorp for example was a brilliant artist mr mitchell is not as far as originallity i would suspect that the context for singing the national anthem might be original but then again it could be borrowed from some legitimate porn film there s nothing really new about this film that has been done before  except  the clutter of hardcore sex in among the ploti will sum up by including a quote from aisha tylerfrom the title i was expecting a film about mentally challenged kids going to school instead it was a film by a mentally challenged filmmaker who should have gone to film school\n",
      "predicted 0\n",
      "true 1\n",
      "\n",
      "\n",
      "you know when people joke about twitter and they talk about how nobody cares that they ate a sandwich took a dump had a beer and brushed their teeth sorry for the crudenessthats what this dvd  its a full length dvd of kurt cobain taking a dump on his life every choice he made every squat he stayed and not near as much about the man i recognize from nirvana it took a few play backs because for the longest time i didnt even recognize his voice to me it just didnt sound like him the pictures shown in the film are random over an hour into it and not one picture of kurt after over an hour one picture of the top of courtneys head supposebly as he says she reminded him of nancy spungen who didnt she remind of nancy spungen i had to watch this documentary over a number of sittings because it just didnt hold mei expected alot ive been a nirvana fan since i was a kid this documentary sucks\n",
      "predicted 0\n",
      "true 1\n",
      "\n",
      "\n",
      "i think this dvd is the lowest i have ever rated anything on amazon  there are a number of reasons im returning this fitness workout and why you should avoid it if you are looking for a good not annoying exercise program  the music is really icky kind of elevatorish instrumental with a beat that does not say cardio workout to me but instead says musak at its worst  if you care about what the music the workout uses sounds like very few of you will like this  the workout actually is a cleverly disguised stepworkout  if you are going to make a step workout then label it as such i was looking for something of a floor dance style cardio and nothing on the packaging led me to believe that this was step aerobics  i have a step tape i love but ca not do it because of knee issues and nervedamage in my foot  so i actually scanned the packaging fairly carefully and saw a picture and description that led me to believe this was a dancetype lower impact workout with weights no problem  after watching the dvd i looked more carefully and saw it says that you have to have a special fanny lifter which is on the back but was not shown in the images and was not described as a step so until i saw it i figured i could improvise whatever the fanny lifter was i was wrongi did see a very tiny print disclaimer about people with weak knees or very out of shape being able to use a shorter platform  i am in pretty good shape but yes weak knees is a big deal  i actually think even if you do not have weak knees yet this workout might make you have them if you do it for long  i needed something with no platform so if this is why you are looking at this instead of a step workout do not buy it  the platform you need to buy for this video is actually quite high also so even if you are a step workout fan make sure you are okay with a very high unstable looking step  it s more a footstool than anything else  it also did not imply that this fanny lifter thing was a pretty much essential part of the workout used on almost every section i looked at  it would be really complicated for you to modify the workout if you tried to do it without a step or fanny lifter  i was annoyed with the fact that i could not fast forward through the dvd credits intro material and other  minutes worth of stuff at the start of the dvd  it seemed like a long time to wait while i was standing there in my workout space  the stuff at the beginning was locked out and you could not skip at all if it was a video i would just not rewind all the way so i could skip that part  but with a dvd you have to watch it every time  when i am ready to work out im sorry but i do not really care who the photographer was  it was a waste of my timei actually ca not comment on the difficulty or lack thereof of the routine because i could not get past these issues and instead put in another dvd the one i mention below  i am entirely too busy to spend that much time on something quite this annoyingi understand that the firm is supposed to provide a great workout for many people and if this works for you and you can skip all these issues fine  but if the above issues are things you too might find irritating i suggest instead of this one the kathy smith  timesaver cardio fat burner dvd amazon asin  bqwe\n",
      "predicted 0\n",
      "true 1\n",
      "\n",
      "\n",
      "this movie sucks big time the monsters suits are cheap and fake looking the humor is this film is dumb not funny i spend  bucks for this crap i felt like i got cheated now i lost all respect for tokyo shock for releasing this crap to people who loves godzilla gamera and other kaiju monster films some say that it s better then monster x strikes back bs monster x is way better then this if this is how new monster films are going to be made then i will stick with my classics and the hell with the new crap as for tokyo shock hope you are happy that you made some profit off of us true gfan but it s the last time im buying anything from your company again\n",
      "predicted 0\n",
      "true 1\n",
      "\n",
      "\n",
      "this is not the first videogameanime marriage i have seen the first dead space anime the halo anime and the dante s inferno anime this is the worst the anime stories obviously made by different animators given drastically different character models are tied together with a cgi story with cgi so terrible it s actually laughable the graphics from the video game look better than the bland and stiff cgi characterssettingsi do not understand why the studio decided not to follow the main protagonist from the dead space games which by the way are excellent it really seems like a lost opportunitythe story is pretty generic and bland a recovery crew comes into contact with a shard from an alien artifact it makes him crazy it makes everyone crazy it comes near  then it creates the necromorphs read space zombies so the crew has to destroy the shard to destroy the infection then shadowy government operatives want to coverup the events and try to use the artifact s power there s little explanation of who the operatives are or why their methods are so hardcore or how anyone would believe the ridiculous coverup story honestly if it was not for the language and gratuitous nudity i d think someone wrote this script for a children s saturday morning cartoon  it s that bland and full of plot holesas a big fan of the games i found this anime a real let down do not waste your money do not even rent it and waste your time\n",
      "predicted 0\n",
      "true 1\n",
      "\n",
      "\n",
      "the ice age movies are fantastic  the animators are perfectionists and spend a great deal of time getting it right in terms of characters the movies are also hilarious for the entire family  i have each of the ice age and scrat movies to date and ca not wait until ice age  comes out in   i have also bought the entire series to give as christmas gifts for my grandchildren this year  i recommend this wonderful animated film\n",
      "predicted 1\n",
      "true 0\n",
      "\n",
      "\n"
     ]
    }
   ],
   "source": [
    "for idx, value in enumerate(zip(y_predicted_lr_optimized, y)):\n",
    "    if (value[0] != value[1]) and (idx < 10):\n",
    "        print (X_my_test.iloc[idx])\n",
    "        print (\"predicted {}\".format(value[0]))\n",
    "        print (\"true {}\".format(value[1]))\n",
    "        print (\"\\n\")\n"
   ]
  },
  {
   "cell_type": "markdown",
   "metadata": {},
   "source": [
    "# predict results and submit"
   ]
  },
  {
   "cell_type": "code",
   "execution_count": 193,
   "metadata": {
    "collapsed": false
   },
   "outputs": [
    {
     "data": {
      "text/plain": [
       "Pipeline(steps=[('vectorizer', TfidfVectorizer(analyzer='word', binary=False, decode_error='strict',\n",
       "        dtype=<class 'numpy.int64'>, encoding='utf-8', input='content',\n",
       "        lowercase=True, max_df=1.0, max_features=None, min_df=1,\n",
       "        ngram_range=(1, 2), norm='l2', preprocessor=None, smooth_idf=Tr...ty='l2', random_state=None,\n",
       "          solver='liblinear', tol=0.0001, verbose=0, warm_start=False))])"
      ]
     },
     "execution_count": 193,
     "metadata": {},
     "output_type": "execute_result"
    }
   ],
   "source": [
    "pipeline_lr_optimized.fit(clean_data(X), y)"
   ]
  },
  {
   "cell_type": "code",
   "execution_count": 194,
   "metadata": {
    "collapsed": false
   },
   "outputs": [],
   "source": [
    "test[\"overall\"] = pipeline_lr_optimized.predict(X_test)"
   ]
  },
  {
   "cell_type": "code",
   "execution_count": 195,
   "metadata": {
    "collapsed": false
   },
   "outputs": [
    {
     "data": {
      "text/html": [
       "<div>\n",
       "<table border=\"1\" class=\"dataframe\">\n",
       "  <thead>\n",
       "    <tr style=\"text-align: right;\">\n",
       "      <th></th>\n",
       "      <th>index</th>\n",
       "      <th>reviewText</th>\n",
       "      <th>overall</th>\n",
       "    </tr>\n",
       "  </thead>\n",
       "  <tbody>\n",
       "    <tr>\n",
       "      <th>0</th>\n",
       "      <td>0</td>\n",
       "      <td>So many reviewers have already given you the premise of this movie, so I will keep my review bri...</td>\n",
       "      <td>1</td>\n",
       "    </tr>\n",
       "    <tr>\n",
       "      <th>1</th>\n",
       "      <td>1</td>\n",
       "      <td>The film opens up with an ideal family. When the father dies in an era where seat belts are opti...</td>\n",
       "      <td>1</td>\n",
       "    </tr>\n",
       "    <tr>\n",
       "      <th>2</th>\n",
       "      <td>2</td>\n",
       "      <td>Why does everyone like this stupid movie so much?  Why can't everyone just be called people inst...</td>\n",
       "      <td>0</td>\n",
       "    </tr>\n",
       "    <tr>\n",
       "      <th>3</th>\n",
       "      <td>3</td>\n",
       "      <td>Fair watch. Unlike some shows it got better with each season. Diana is great. Bad girl you love ...</td>\n",
       "      <td>1</td>\n",
       "    </tr>\n",
       "    <tr>\n",
       "      <th>4</th>\n",
       "      <td>4</td>\n",
       "      <td>I thought I was buying the DVD of the Season 4 of Downton Abbey... I did not read it clearly.......</td>\n",
       "      <td>0</td>\n",
       "    </tr>\n",
       "  </tbody>\n",
       "</table>\n",
       "</div>"
      ],
      "text/plain": [
       "   index  \\\n",
       "0      0   \n",
       "1      1   \n",
       "2      2   \n",
       "3      3   \n",
       "4      4   \n",
       "\n",
       "                                                                                            reviewText  \\\n",
       "0  So many reviewers have already given you the premise of this movie, so I will keep my review bri...   \n",
       "1  The film opens up with an ideal family. When the father dies in an era where seat belts are opti...   \n",
       "2  Why does everyone like this stupid movie so much?  Why can't everyone just be called people inst...   \n",
       "3  Fair watch. Unlike some shows it got better with each season. Diana is great. Bad girl you love ...   \n",
       "4  I thought I was buying the DVD of the Season 4 of Downton Abbey... I did not read it clearly.......   \n",
       "\n",
       "   overall  \n",
       "0        1  \n",
       "1        1  \n",
       "2        0  \n",
       "3        1  \n",
       "4        0  "
      ]
     },
     "execution_count": 195,
     "metadata": {},
     "output_type": "execute_result"
    }
   ],
   "source": [
    "pd.options.display.max_colwidth = 100\n",
    "test.head()"
   ]
  },
  {
   "cell_type": "code",
   "execution_count": 196,
   "metadata": {
    "collapsed": false
   },
   "outputs": [
    {
     "name": "stdout",
     "output_type": "stream",
     "text": [
      "[5\n",
      " 'I turned it off when Artie is in the filthy, nasty public restroom singing his grandson into completion of the task at hand. During the 58 minutes I endured, I never cracked a smile, much less laughed. LOSER MOVIE. $5 wasted.'\n",
      " 0]\n",
      "[6\n",
      " \"What television series has maintained quality as consistantly as Midsomer Murders? There might be disagreement as to which episodes are the best but who cares? The best series have characters you care about and Midsomer has that. Then they add interesting characters to react to. Set 17 continues all the fine traditions.Fortunately when the final episodes reach the U.S. there will be enough to go back to Badger's Drift and start over. I am of the age where I can't remember the murderers that far back so I will have fun all over again.\"\n",
      " 1]\n",
      "[7\n",
      " 'I cannot say anything about the quality of the product as I have not received it from the sender yet.'\n",
      " 1]\n",
      "[8\n",
      " 'When DeMornay goes off in a bathroom stall and beats the heck out of it....I get scared!  This movie is a wonderful film and keeps the viewer in suspense.  It is well acted and keeps you on edge until the very end.'\n",
      " 1]\n",
      "[9\n",
      " 'Have been a fan since it started 5 years ago and love how the story and characters have evolved.  Never get enough of this series and have to always get my fix until next season arrives!'\n",
      " 1]\n"
     ]
    }
   ],
   "source": [
    "for ad in range(5, 10):\n",
    "    print(test.values[ad])"
   ]
  },
  {
   "cell_type": "code",
   "execution_count": 197,
   "metadata": {
    "collapsed": false
   },
   "outputs": [],
   "source": [
    "test[[\"index\",\"overall\"]].to_csv(\"zibrov.csv\", sep=\"|\")"
   ]
  },
  {
   "cell_type": "code",
   "execution_count": null,
   "metadata": {
    "collapsed": true
   },
   "outputs": [],
   "source": [
    "#result on test – 0.7988"
   ]
  }
 ],
 "metadata": {
  "anaconda-cloud": {},
  "kernelspec": {
   "display_name": "Python [Root]",
   "language": "python",
   "name": "Python [Root]"
  },
  "language_info": {
   "codemirror_mode": {
    "name": "ipython",
    "version": 3
   },
   "file_extension": ".py",
   "mimetype": "text/x-python",
   "name": "python",
   "nbconvert_exporter": "python",
   "pygments_lexer": "ipython3",
   "version": "3.5.2"
  }
 },
 "nbformat": 4,
 "nbformat_minor": 1
}
